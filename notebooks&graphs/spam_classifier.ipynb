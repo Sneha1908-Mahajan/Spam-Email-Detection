{
 "cells": [
  {
   "cell_type": "markdown",
   "id": "2f76b59f-25f3-4809-b39b-67edfca1e46b",
   "metadata": {},
   "source": [
    "# 1)Data Loading"
   ]
  },
  {
   "cell_type": "code",
   "execution_count": 34,
   "id": "ebb39d60-d292-4861-8d7d-50efad33072a",
   "metadata": {},
   "outputs": [
    {
     "name": "stderr",
     "output_type": "stream",
     "text": [
      "[nltk_data] Downloading package punkt to\n",
      "[nltk_data]     C:\\Users\\sneha\\AppData\\Roaming\\nltk_data...\n",
      "[nltk_data]   Package punkt is already up-to-date!\n",
      "[nltk_data] Downloading package punkt_tab to\n",
      "[nltk_data]     C:\\Users\\sneha\\AppData\\Roaming\\nltk_data...\n",
      "[nltk_data]   Package punkt_tab is already up-to-date!\n",
      "[nltk_data] Downloading package stopwords to\n",
      "[nltk_data]     C:\\Users\\sneha\\AppData\\Roaming\\nltk_data...\n",
      "[nltk_data]   Package stopwords is already up-to-date!\n",
      "[nltk_data] Downloading package wordnet to\n",
      "[nltk_data]     C:\\Users\\sneha\\AppData\\Roaming\\nltk_data...\n",
      "[nltk_data] Downloading package omw-1.4 to\n",
      "[nltk_data]     C:\\Users\\sneha\\AppData\\Roaming\\nltk_data...\n"
     ]
    }
   ],
   "source": [
    "import numpy as np\n",
    "import pandas as pd\n",
    "from sklearn.preprocessing import LabelEncoder\n",
    "import matplotlib.pyplot as plt\n",
    "import nltk\n",
    "nltk.download('punkt')\n",
    "nltk.download('punkt_tab')\n",
    "import seaborn as sns\n",
    "from collections import Counter\n",
    "import string\n",
    "from nltk.corpus import stopwords\n",
    "nltk.download('stopwords')\n",
    "nltk.download('wordnet')\n",
    "nltk.download('omw-1.4') \n",
    "from nltk.tokenize import word_tokenize\n",
    "from nltk.stem import PorterStemmer"
   ]
  },
  {
   "cell_type": "code",
   "execution_count": 3,
   "id": "7da55e19-c40e-4dee-a30e-5a8c52686686",
   "metadata": {},
   "outputs": [
    {
     "data": {
      "text/html": [
       "<div>\n",
       "<style scoped>\n",
       "    .dataframe tbody tr th:only-of-type {\n",
       "        vertical-align: middle;\n",
       "    }\n",
       "\n",
       "    .dataframe tbody tr th {\n",
       "        vertical-align: top;\n",
       "    }\n",
       "\n",
       "    .dataframe thead th {\n",
       "        text-align: right;\n",
       "    }\n",
       "</style>\n",
       "<table border=\"1\" class=\"dataframe\">\n",
       "  <thead>\n",
       "    <tr style=\"text-align: right;\">\n",
       "      <th></th>\n",
       "      <th>v1</th>\n",
       "      <th>v2</th>\n",
       "      <th>Unnamed: 2</th>\n",
       "      <th>Unnamed: 3</th>\n",
       "      <th>Unnamed: 4</th>\n",
       "    </tr>\n",
       "  </thead>\n",
       "  <tbody>\n",
       "    <tr>\n",
       "      <th>0</th>\n",
       "      <td>ham</td>\n",
       "      <td>Go until jurong point, crazy.. Available only in bugis n great world la e buffet... Cine there got amore wat...</td>\n",
       "      <td>NaN</td>\n",
       "      <td>NaN</td>\n",
       "      <td>NaN</td>\n",
       "    </tr>\n",
       "    <tr>\n",
       "      <th>1</th>\n",
       "      <td>ham</td>\n",
       "      <td>Ok lar... Joking wif u oni...</td>\n",
       "      <td>NaN</td>\n",
       "      <td>NaN</td>\n",
       "      <td>NaN</td>\n",
       "    </tr>\n",
       "    <tr>\n",
       "      <th>2</th>\n",
       "      <td>spam</td>\n",
       "      <td>Free entry in 2 a wkly comp to win FA Cup final tkts 21st May 2005. Text FA to 87121 to receive entry question(std txt rate)T&amp;C's apply 08452810075over18's</td>\n",
       "      <td>NaN</td>\n",
       "      <td>NaN</td>\n",
       "      <td>NaN</td>\n",
       "    </tr>\n",
       "    <tr>\n",
       "      <th>3</th>\n",
       "      <td>ham</td>\n",
       "      <td>U dun say so early hor... U c already then say...</td>\n",
       "      <td>NaN</td>\n",
       "      <td>NaN</td>\n",
       "      <td>NaN</td>\n",
       "    </tr>\n",
       "    <tr>\n",
       "      <th>4</th>\n",
       "      <td>ham</td>\n",
       "      <td>Nah I don't think he goes to usf, he lives around here though</td>\n",
       "      <td>NaN</td>\n",
       "      <td>NaN</td>\n",
       "      <td>NaN</td>\n",
       "    </tr>\n",
       "  </tbody>\n",
       "</table>\n",
       "</div>"
      ],
      "text/plain": [
       "     v1  \\\n",
       "0   ham   \n",
       "1   ham   \n",
       "2  spam   \n",
       "3   ham   \n",
       "4   ham   \n",
       "\n",
       "                                                                                                                                                            v2  \\\n",
       "0                                              Go until jurong point, crazy.. Available only in bugis n great world la e buffet... Cine there got amore wat...   \n",
       "1                                                                                                                                Ok lar... Joking wif u oni...   \n",
       "2  Free entry in 2 a wkly comp to win FA Cup final tkts 21st May 2005. Text FA to 87121 to receive entry question(std txt rate)T&C's apply 08452810075over18's   \n",
       "3                                                                                                            U dun say so early hor... U c already then say...   \n",
       "4                                                                                                Nah I don't think he goes to usf, he lives around here though   \n",
       "\n",
       "  Unnamed: 2 Unnamed: 3 Unnamed: 4  \n",
       "0        NaN        NaN        NaN  \n",
       "1        NaN        NaN        NaN  \n",
       "2        NaN        NaN        NaN  \n",
       "3        NaN        NaN        NaN  \n",
       "4        NaN        NaN        NaN  "
      ]
     },
     "execution_count": 3,
     "metadata": {},
     "output_type": "execute_result"
    }
   ],
   "source": [
    "spam_data = pd.read_csv('spam.csv', encoding='latin1')\n",
    "pd.set_option('display.max_colwidth', None)\n",
    "spam_data.head()"
   ]
  },
  {
   "cell_type": "code",
   "execution_count": 4,
   "id": "9afa53a8-7379-4c47-9d8c-999cc8223025",
   "metadata": {},
   "outputs": [
    {
     "data": {
      "text/plain": [
       "(5572, 5)"
      ]
     },
     "execution_count": 4,
     "metadata": {},
     "output_type": "execute_result"
    }
   ],
   "source": [
    "spam_data.shape"
   ]
  },
  {
   "cell_type": "markdown",
   "id": "92e84787-51d2-4441-9f4d-3e80c4405680",
   "metadata": {},
   "source": [
    "# 2)Data Cleaning"
   ]
  },
  {
   "cell_type": "code",
   "execution_count": 5,
   "id": "9204814a-0b4d-4fdf-8ed4-631500bb033b",
   "metadata": {},
   "outputs": [
    {
     "name": "stdout",
     "output_type": "stream",
     "text": [
      "<class 'pandas.core.frame.DataFrame'>\n",
      "RangeIndex: 5572 entries, 0 to 5571\n",
      "Data columns (total 5 columns):\n",
      " #   Column      Non-Null Count  Dtype \n",
      "---  ------      --------------  ----- \n",
      " 0   v1          5572 non-null   object\n",
      " 1   v2          5572 non-null   object\n",
      " 2   Unnamed: 2  50 non-null     object\n",
      " 3   Unnamed: 3  12 non-null     object\n",
      " 4   Unnamed: 4  6 non-null      object\n",
      "dtypes: object(5)\n",
      "memory usage: 217.8+ KB\n"
     ]
    }
   ],
   "source": [
    "spam_data.info()"
   ]
  },
  {
   "cell_type": "code",
   "execution_count": 6,
   "id": "92148014-b297-4cd2-be15-63cd7fd94a03",
   "metadata": {},
   "outputs": [
    {
     "data": {
      "text/plain": [
       "' Column Unnamed: 2,Unnamed: 3,Unnamed: 4 \\ncontains mostly null values which needs to be dropped '"
      ]
     },
     "execution_count": 6,
     "metadata": {},
     "output_type": "execute_result"
    }
   ],
   "source": [
    "''' Column Unnamed: 2,Unnamed: 3,Unnamed: 4 \n",
    "contains mostly null values which needs to be dropped '''"
   ]
  },
  {
   "cell_type": "markdown",
   "id": "299b0513-1a58-477e-a4e2-6d346b907279",
   "metadata": {},
   "source": [
    "### a)Dropping Columns"
   ]
  },
  {
   "cell_type": "code",
   "execution_count": 7,
   "id": "8eb53b9b-5ce4-4391-ba78-6362376b7cb2",
   "metadata": {},
   "outputs": [],
   "source": [
    "# dropping the last 3 columns\n",
    "spam_data.drop(columns=['Unnamed: 2','Unnamed: 3','Unnamed: 4'],inplace=True)"
   ]
  },
  {
   "cell_type": "code",
   "execution_count": 8,
   "id": "0795a5a7-777e-4412-9df8-8190db5b83dd",
   "metadata": {},
   "outputs": [
    {
     "data": {
      "text/html": [
       "<div>\n",
       "<style scoped>\n",
       "    .dataframe tbody tr th:only-of-type {\n",
       "        vertical-align: middle;\n",
       "    }\n",
       "\n",
       "    .dataframe tbody tr th {\n",
       "        vertical-align: top;\n",
       "    }\n",
       "\n",
       "    .dataframe thead th {\n",
       "        text-align: right;\n",
       "    }\n",
       "</style>\n",
       "<table border=\"1\" class=\"dataframe\">\n",
       "  <thead>\n",
       "    <tr style=\"text-align: right;\">\n",
       "      <th></th>\n",
       "      <th>v1</th>\n",
       "      <th>v2</th>\n",
       "    </tr>\n",
       "  </thead>\n",
       "  <tbody>\n",
       "    <tr>\n",
       "      <th>0</th>\n",
       "      <td>ham</td>\n",
       "      <td>Go until jurong point, crazy.. Available only in bugis n great world la e buffet... Cine there got amore wat...</td>\n",
       "    </tr>\n",
       "    <tr>\n",
       "      <th>1</th>\n",
       "      <td>ham</td>\n",
       "      <td>Ok lar... Joking wif u oni...</td>\n",
       "    </tr>\n",
       "    <tr>\n",
       "      <th>2</th>\n",
       "      <td>spam</td>\n",
       "      <td>Free entry in 2 a wkly comp to win FA Cup final tkts 21st May 2005. Text FA to 87121 to receive entry question(std txt rate)T&amp;C's apply 08452810075over18's</td>\n",
       "    </tr>\n",
       "    <tr>\n",
       "      <th>3</th>\n",
       "      <td>ham</td>\n",
       "      <td>U dun say so early hor... U c already then say...</td>\n",
       "    </tr>\n",
       "    <tr>\n",
       "      <th>4</th>\n",
       "      <td>ham</td>\n",
       "      <td>Nah I don't think he goes to usf, he lives around here though</td>\n",
       "    </tr>\n",
       "  </tbody>\n",
       "</table>\n",
       "</div>"
      ],
      "text/plain": [
       "     v1  \\\n",
       "0   ham   \n",
       "1   ham   \n",
       "2  spam   \n",
       "3   ham   \n",
       "4   ham   \n",
       "\n",
       "                                                                                                                                                            v2  \n",
       "0                                              Go until jurong point, crazy.. Available only in bugis n great world la e buffet... Cine there got amore wat...  \n",
       "1                                                                                                                                Ok lar... Joking wif u oni...  \n",
       "2  Free entry in 2 a wkly comp to win FA Cup final tkts 21st May 2005. Text FA to 87121 to receive entry question(std txt rate)T&C's apply 08452810075over18's  \n",
       "3                                                                                                            U dun say so early hor... U c already then say...  \n",
       "4                                                                                                Nah I don't think he goes to usf, he lives around here though  "
      ]
     },
     "execution_count": 8,
     "metadata": {},
     "output_type": "execute_result"
    }
   ],
   "source": [
    "spam_data.head()"
   ]
  },
  {
   "cell_type": "code",
   "execution_count": 9,
   "id": "04a5aa9c-9642-4cc9-9936-d8ae7a578aeb",
   "metadata": {},
   "outputs": [
    {
     "data": {
      "text/plain": [
       "'Using clear and relevent names for Columns'"
      ]
     },
     "execution_count": 9,
     "metadata": {},
     "output_type": "execute_result"
    }
   ],
   "source": [
    "'''Using clear and relevent names for Columns'''"
   ]
  },
  {
   "cell_type": "markdown",
   "id": "c10b974a-9e10-4395-b58d-e00bf8f45185",
   "metadata": {},
   "source": [
    "### b)Renaming Columns"
   ]
  },
  {
   "cell_type": "code",
   "execution_count": 10,
   "id": "eab51d3e-e190-4ec1-963f-3df2fd818014",
   "metadata": {},
   "outputs": [
    {
     "data": {
      "text/html": [
       "<div>\n",
       "<style scoped>\n",
       "    .dataframe tbody tr th:only-of-type {\n",
       "        vertical-align: middle;\n",
       "    }\n",
       "\n",
       "    .dataframe tbody tr th {\n",
       "        vertical-align: top;\n",
       "    }\n",
       "\n",
       "    .dataframe thead th {\n",
       "        text-align: right;\n",
       "    }\n",
       "</style>\n",
       "<table border=\"1\" class=\"dataframe\">\n",
       "  <thead>\n",
       "    <tr style=\"text-align: right;\">\n",
       "      <th></th>\n",
       "      <th>type</th>\n",
       "      <th>messages</th>\n",
       "    </tr>\n",
       "  </thead>\n",
       "  <tbody>\n",
       "    <tr>\n",
       "      <th>1714</th>\n",
       "      <td>ham</td>\n",
       "      <td>Yeah I don't see why not</td>\n",
       "    </tr>\n",
       "    <tr>\n",
       "      <th>3692</th>\n",
       "      <td>ham</td>\n",
       "      <td>I was about to do it when i texted. I finished a long time ago and showered and er'ything!</td>\n",
       "    </tr>\n",
       "    <tr>\n",
       "      <th>520</th>\n",
       "      <td>ham</td>\n",
       "      <td>But that's on ebay it might be less elsewhere.</td>\n",
       "    </tr>\n",
       "    <tr>\n",
       "      <th>4210</th>\n",
       "      <td>ham</td>\n",
       "      <td>Oi when you gonna ring</td>\n",
       "    </tr>\n",
       "    <tr>\n",
       "      <th>170</th>\n",
       "      <td>ham</td>\n",
       "      <td>Sir, I need AXIS BANK account no and bank address.</td>\n",
       "    </tr>\n",
       "  </tbody>\n",
       "</table>\n",
       "</div>"
      ],
      "text/plain": [
       "     type  \\\n",
       "1714  ham   \n",
       "3692  ham   \n",
       "520   ham   \n",
       "4210  ham   \n",
       "170   ham   \n",
       "\n",
       "                                                                                        messages  \n",
       "1714                                                                    Yeah I don't see why not  \n",
       "3692  I was about to do it when i texted. I finished a long time ago and showered and er'ything!  \n",
       "520                                               But that's on ebay it might be less elsewhere.  \n",
       "4210                                                                      Oi when you gonna ring  \n",
       "170                                           Sir, I need AXIS BANK account no and bank address.  "
      ]
     },
     "execution_count": 10,
     "metadata": {},
     "output_type": "execute_result"
    }
   ],
   "source": [
    "spam_data.rename(columns={'v1':'type','v2':'messages'},inplace=True)\n",
    "spam_data.sample(5)"
   ]
  },
  {
   "cell_type": "code",
   "execution_count": 11,
   "id": "ab46da75-e50e-48a4-9366-d59153b8e247",
   "metadata": {},
   "outputs": [
    {
     "data": {
      "text/plain": [
       "'Most Of the Models need to be provided with numerical data as they handle it correctly.'"
      ]
     },
     "execution_count": 11,
     "metadata": {},
     "output_type": "execute_result"
    }
   ],
   "source": [
    "'''Most Of the Models need to be provided with numerical data as they handle it correctly.'''"
   ]
  },
  {
   "cell_type": "markdown",
   "id": "32176780-0aff-4a0c-9801-bebdb27bb045",
   "metadata": {},
   "source": [
    "### c)Encoding "
   ]
  },
  {
   "cell_type": "code",
   "execution_count": 12,
   "id": "ee1aadd1-7253-44d3-9952-3bb5de0e6fa0",
   "metadata": {},
   "outputs": [],
   "source": [
    "encoder = LabelEncoder()\n",
    "spam_data['type'] = encoder.fit_transform(spam_data['type'])"
   ]
  },
  {
   "cell_type": "code",
   "execution_count": 13,
   "id": "68c68aee-16a8-49c0-b1cd-f41cafc3c559",
   "metadata": {},
   "outputs": [
    {
     "data": {
      "text/html": [
       "<div>\n",
       "<style scoped>\n",
       "    .dataframe tbody tr th:only-of-type {\n",
       "        vertical-align: middle;\n",
       "    }\n",
       "\n",
       "    .dataframe tbody tr th {\n",
       "        vertical-align: top;\n",
       "    }\n",
       "\n",
       "    .dataframe thead th {\n",
       "        text-align: right;\n",
       "    }\n",
       "</style>\n",
       "<table border=\"1\" class=\"dataframe\">\n",
       "  <thead>\n",
       "    <tr style=\"text-align: right;\">\n",
       "      <th></th>\n",
       "      <th>type</th>\n",
       "      <th>messages</th>\n",
       "    </tr>\n",
       "  </thead>\n",
       "  <tbody>\n",
       "    <tr>\n",
       "      <th>0</th>\n",
       "      <td>0</td>\n",
       "      <td>Go until jurong point, crazy.. Available only in bugis n great world la e buffet... Cine there got amore wat...</td>\n",
       "    </tr>\n",
       "    <tr>\n",
       "      <th>1</th>\n",
       "      <td>0</td>\n",
       "      <td>Ok lar... Joking wif u oni...</td>\n",
       "    </tr>\n",
       "    <tr>\n",
       "      <th>2</th>\n",
       "      <td>1</td>\n",
       "      <td>Free entry in 2 a wkly comp to win FA Cup final tkts 21st May 2005. Text FA to 87121 to receive entry question(std txt rate)T&amp;C's apply 08452810075over18's</td>\n",
       "    </tr>\n",
       "    <tr>\n",
       "      <th>3</th>\n",
       "      <td>0</td>\n",
       "      <td>U dun say so early hor... U c already then say...</td>\n",
       "    </tr>\n",
       "    <tr>\n",
       "      <th>4</th>\n",
       "      <td>0</td>\n",
       "      <td>Nah I don't think he goes to usf, he lives around here though</td>\n",
       "    </tr>\n",
       "  </tbody>\n",
       "</table>\n",
       "</div>"
      ],
      "text/plain": [
       "   type  \\\n",
       "0     0   \n",
       "1     0   \n",
       "2     1   \n",
       "3     0   \n",
       "4     0   \n",
       "\n",
       "                                                                                                                                                      messages  \n",
       "0                                              Go until jurong point, crazy.. Available only in bugis n great world la e buffet... Cine there got amore wat...  \n",
       "1                                                                                                                                Ok lar... Joking wif u oni...  \n",
       "2  Free entry in 2 a wkly comp to win FA Cup final tkts 21st May 2005. Text FA to 87121 to receive entry question(std txt rate)T&C's apply 08452810075over18's  \n",
       "3                                                                                                            U dun say so early hor... U c already then say...  \n",
       "4                                                                                                Nah I don't think he goes to usf, he lives around here though  "
      ]
     },
     "execution_count": 13,
     "metadata": {},
     "output_type": "execute_result"
    }
   ],
   "source": [
    "spam_data.head()"
   ]
  },
  {
   "cell_type": "markdown",
   "id": "52455180-ada2-4a33-b0b8-5048697c0267",
   "metadata": {},
   "source": [
    "### d)Handling Missing Values"
   ]
  },
  {
   "cell_type": "code",
   "execution_count": 14,
   "id": "afc39a87-3e07-4764-a877-b61d2583c924",
   "metadata": {},
   "outputs": [
    {
     "data": {
      "text/plain": [
       "type        0\n",
       "messages    0\n",
       "dtype: int64"
      ]
     },
     "execution_count": 14,
     "metadata": {},
     "output_type": "execute_result"
    }
   ],
   "source": [
    "spam_data.isnull().sum()"
   ]
  },
  {
   "cell_type": "code",
   "execution_count": 15,
   "id": "466552da-e38c-4980-8322-fab6ae2b6039",
   "metadata": {},
   "outputs": [
    {
     "data": {
      "text/plain": [
       "'No missing values found'"
      ]
     },
     "execution_count": 15,
     "metadata": {},
     "output_type": "execute_result"
    }
   ],
   "source": [
    "'''No missing values found'''"
   ]
  },
  {
   "cell_type": "markdown",
   "id": "783d56bb-fd06-4242-b41f-5b450877bd89",
   "metadata": {},
   "source": [
    "### e)Handling Duplicate Values"
   ]
  },
  {
   "cell_type": "code",
   "execution_count": 16,
   "id": "a2b21714-82ad-4d9e-9f3d-44a0fe26a094",
   "metadata": {},
   "outputs": [
    {
     "data": {
      "text/plain": [
       "np.int64(403)"
      ]
     },
     "execution_count": 16,
     "metadata": {},
     "output_type": "execute_result"
    }
   ],
   "source": [
    "spam_data.duplicated().sum()"
   ]
  },
  {
   "cell_type": "code",
   "execution_count": 17,
   "id": "8ddb5a58-05f6-4a7c-a8b0-8c58a81e9bb7",
   "metadata": {},
   "outputs": [
    {
     "data": {
      "text/plain": [
       "'These Duplicated Values need to be removed'"
      ]
     },
     "execution_count": 17,
     "metadata": {},
     "output_type": "execute_result"
    }
   ],
   "source": [
    "'''These Duplicated Values need to be removed'''"
   ]
  },
  {
   "cell_type": "code",
   "execution_count": 18,
   "id": "62eec6a9-5d97-4423-9a8f-893f0dfa8f30",
   "metadata": {},
   "outputs": [
    {
     "data": {
      "text/plain": [
       "np.int64(0)"
      ]
     },
     "execution_count": 18,
     "metadata": {},
     "output_type": "execute_result"
    }
   ],
   "source": [
    "spam_data = spam_data.drop_duplicates(keep='first')\n",
    "spam_data.duplicated().sum()"
   ]
  },
  {
   "cell_type": "code",
   "execution_count": 19,
   "id": "481adf67-2bd9-4df7-90c3-41e6cccb04dd",
   "metadata": {},
   "outputs": [
    {
     "data": {
      "text/plain": [
       "(5169, 2)"
      ]
     },
     "execution_count": 19,
     "metadata": {},
     "output_type": "execute_result"
    }
   ],
   "source": [
    "spam_data.shape"
   ]
  },
  {
   "cell_type": "markdown",
   "id": "62ef7e34-f716-4408-957b-89f9e2926ad2",
   "metadata": {},
   "source": [
    "# 3)EDA"
   ]
  },
  {
   "cell_type": "markdown",
   "id": "43fe872a-6980-4921-aa4d-3dd08f7cd751",
   "metadata": {},
   "source": [
    "### a) PieChart"
   ]
  },
  {
   "cell_type": "code",
   "execution_count": 20,
   "id": "6dc73847-8260-426b-b4ef-114541fccd7b",
   "metadata": {},
   "outputs": [
    {
     "data": {
      "image/png": "[encoded data removed]",
      "text/plain": [
       "<Figure size 640x480 with 1 Axes>"
      ]
     },
     "metadata": {},
     "output_type": "display_data"
    }
   ],
   "source": [
    "plt.pie(spam_data['type'].value_counts(),\n",
    "        labels=['Not Spam','Spam'],\n",
    "        autopct=\"%0.2f\",\n",
    "        startangle=90,     \n",
    "        colors=['pink','lightblue'],\n",
    "        explode=(0, 0.1),   \n",
    "        )\n",
    "plt.title('Spam Distribution',color='brown')\n",
    "plt.savefig('piechart.png')\n",
    "plt.show()"
   ]
  },
  {
   "cell_type": "code",
   "execution_count": 21,
   "id": "ae336184-c53b-4361-acc9-66b9d26aec21",
   "metadata": {},
   "outputs": [
    {
     "data": {
      "text/plain": [
       "'The chart highlights the class imbalance, with non-spam emails likely\\ndominating the dataset (larger slice) and spam emails forming a smaller minority (smaller slice).'"
      ]
     },
     "execution_count": 21,
     "metadata": {},
     "output_type": "execute_result"
    }
   ],
   "source": [
    "'''The chart highlights the class imbalance, with non-spam emails likely\n",
    "dominating the dataset (larger slice) and spam emails forming a smaller minority (smaller slice).'''"
   ]
  },
  {
   "cell_type": "markdown",
   "id": "a49cb462-4f45-4338-9830-992bbaf259b5",
   "metadata": {},
   "source": [
    "### b)HistPlot"
   ]
  },
  {
   "cell_type": "code",
   "execution_count": 22,
   "id": "f1a10841-f66d-43f7-b1e6-aff8228849f3",
   "metadata": {},
   "outputs": [],
   "source": [
    "spam_data['total_characters'] = spam_data['messages'].apply(len)"
   ]
  },
  {
   "cell_type": "code",
   "execution_count": 23,
   "id": "9fbc10e4-eb77-4278-aa7b-76cc45ee3a3f",
   "metadata": {},
   "outputs": [],
   "source": [
    "spam_data['total_words'] = spam_data['messages'].apply(lambda x:len(nltk.word_tokenize(x)))"
   ]
  },
  {
   "cell_type": "code",
   "execution_count": 24,
   "id": "f786bfa5-f835-4bb0-bd67-83396f18248f",
   "metadata": {},
   "outputs": [],
   "source": [
    "spam_data['total_sentences'] = spam_data['messages'].apply(lambda x:len(nltk.sent_tokenize(x)))"
   ]
  },
  {
   "cell_type": "code",
   "execution_count": 25,
   "id": "2a9897c1-d01a-49b9-8369-68f6a2c35048",
   "metadata": {},
   "outputs": [
    {
     "data": {
      "text/html": [
       "<div>\n",
       "<style scoped>\n",
       "    .dataframe tbody tr th:only-of-type {\n",
       "        vertical-align: middle;\n",
       "    }\n",
       "\n",
       "    .dataframe tbody tr th {\n",
       "        vertical-align: top;\n",
       "    }\n",
       "\n",
       "    .dataframe thead th {\n",
       "        text-align: right;\n",
       "    }\n",
       "</style>\n",
       "<table border=\"1\" class=\"dataframe\">\n",
       "  <thead>\n",
       "    <tr style=\"text-align: right;\">\n",
       "      <th></th>\n",
       "      <th>type</th>\n",
       "      <th>messages</th>\n",
       "      <th>total_characters</th>\n",
       "      <th>total_words</th>\n",
       "      <th>total_sentences</th>\n",
       "    </tr>\n",
       "  </thead>\n",
       "  <tbody>\n",
       "    <tr>\n",
       "      <th>0</th>\n",
       "      <td>0</td>\n",
       "      <td>Go until jurong point, crazy.. Available only in bugis n great world la e buffet... Cine there got amore wat...</td>\n",
       "      <td>111</td>\n",
       "      <td>24</td>\n",
       "      <td>2</td>\n",
       "    </tr>\n",
       "    <tr>\n",
       "      <th>1</th>\n",
       "      <td>0</td>\n",
       "      <td>Ok lar... Joking wif u oni...</td>\n",
       "      <td>29</td>\n",
       "      <td>8</td>\n",
       "      <td>2</td>\n",
       "    </tr>\n",
       "    <tr>\n",
       "      <th>2</th>\n",
       "      <td>1</td>\n",
       "      <td>Free entry in 2 a wkly comp to win FA Cup final tkts 21st May 2005. Text FA to 87121 to receive entry question(std txt rate)T&amp;C's apply 08452810075over18's</td>\n",
       "      <td>155</td>\n",
       "      <td>37</td>\n",
       "      <td>2</td>\n",
       "    </tr>\n",
       "    <tr>\n",
       "      <th>3</th>\n",
       "      <td>0</td>\n",
       "      <td>U dun say so early hor... U c already then say...</td>\n",
       "      <td>49</td>\n",
       "      <td>13</td>\n",
       "      <td>1</td>\n",
       "    </tr>\n",
       "    <tr>\n",
       "      <th>4</th>\n",
       "      <td>0</td>\n",
       "      <td>Nah I don't think he goes to usf, he lives around here though</td>\n",
       "      <td>61</td>\n",
       "      <td>15</td>\n",
       "      <td>1</td>\n",
       "    </tr>\n",
       "  </tbody>\n",
       "</table>\n",
       "</div>"
      ],
      "text/plain": [
       "   type  \\\n",
       "0     0   \n",
       "1     0   \n",
       "2     1   \n",
       "3     0   \n",
       "4     0   \n",
       "\n",
       "                                                                                                                                                      messages  \\\n",
       "0                                              Go until jurong point, crazy.. Available only in bugis n great world la e buffet... Cine there got amore wat...   \n",
       "1                                                                                                                                Ok lar... Joking wif u oni...   \n",
       "2  Free entry in 2 a wkly comp to win FA Cup final tkts 21st May 2005. Text FA to 87121 to receive entry question(std txt rate)T&C's apply 08452810075over18's   \n",
       "3                                                                                                            U dun say so early hor... U c already then say...   \n",
       "4                                                                                                Nah I don't think he goes to usf, he lives around here though   \n",
       "\n",
       "   total_characters  total_words  total_sentences  \n",
       "0               111           24                2  \n",
       "1                29            8                2  \n",
       "2               155           37                2  \n",
       "3                49           13                1  \n",
       "4                61           15                1  "
      ]
     },
     "execution_count": 25,
     "metadata": {},
     "output_type": "execute_result"
    }
   ],
   "source": [
    "spam_data.head()"
   ]
  },
  {
   "cell_type": "code",
   "execution_count": 26,
   "id": "1f5421ae-9e66-4e72-b9bf-c3bbaf57b5de",
   "metadata": {},
   "outputs": [
    {
     "data": {
      "image/png": "[encoded data removed]",
      "text/plain": [
       "<Figure size 1200x600 with 1 Axes>"
      ]
     },
     "metadata": {},
     "output_type": "display_data"
    }
   ],
   "source": [
    "plt.figure(figsize=(12,6))\n",
    "sns.histplot(spam_data[spam_data['type'] == 0]['total_characters'], label='Not Spam', color='lightblue')\n",
    "sns.histplot(spam_data[spam_data['type'] == 1]['total_characters'], label='Spam', color='pink')\n",
    "plt.title('Distribution of Email Length by Spam Classification',color='brown')\n",
    "plt.xlabel('Number of Characters',color='brown')\n",
    "plt.ylabel('Frequency',color='brown')\n",
    "plt.savefig('HistplotCharacter.png')\n",
    "plt.legend(title='Email Type')\n",
    "plt.show()"
   ]
  },
  {
   "cell_type": "code",
   "execution_count": 27,
   "id": "cf49e85c-0d4d-44b3-b43e-17b8b1cd0210",
   "metadata": {},
   "outputs": [
    {
     "data": {
      "text/plain": [
       "'\\n  → Spam emails are generally longer in terms of character count than non-spam emails.\\n  → Non-spam emails are shorter and more concise, dominating the lower character ranges.\\n'"
      ]
     },
     "execution_count": 27,
     "metadata": {},
     "output_type": "execute_result"
    }
   ],
   "source": [
    "'''\n",
    "  → Spam emails are generally longer in terms of character count than non-spam emails.\n",
    "  → Non-spam emails are shorter and more concise, dominating the lower character ranges.\n",
    "'''"
   ]
  },
  {
   "cell_type": "code",
   "execution_count": 28,
   "id": "d7514413-da30-49ef-88f5-6f63fd95a177",
   "metadata": {},
   "outputs": [
    {
     "data": {
      "image/png": "[encoded data removed]",
      "text/plain": [
       "<Figure size 1200x600 with 1 Axes>"
      ]
     },
     "metadata": {},
     "output_type": "display_data"
    }
   ],
   "source": [
    "plt.figure(figsize=(12,6))\n",
    "sns.histplot(spam_data[spam_data['type'] == 0]['total_words'], label='Not Spam', color='lightblue')\n",
    "sns.histplot(spam_data[spam_data['type'] == 1]['total_words'], label='Spam', color='pink')\n",
    "plt.title('Distribution of Email Words Length by Spam Classification',color='brown')\n",
    "plt.xlabel('Number of Words',color='brown')\n",
    "plt.ylabel('Frequency',color='brown')\n",
    "plt.legend(title='Email Type')\n",
    "plt.savefig('HistplotWords.png')\n",
    "plt.show()"
   ]
  },
  {
   "cell_type": "code",
   "execution_count": 29,
   "id": "12eb6030-72f2-4b7e-a8ba-d5657395434b",
   "metadata": {},
   "outputs": [
    {
     "data": {
      "text/plain": [
       "'\\n   → Spam emails generally tend to be longer (in word count) than non-spam emails.\\n   → However, non-spam emails dominate shorter lengths and appear more frequently in total.\\n'"
      ]
     },
     "execution_count": 29,
     "metadata": {},
     "output_type": "execute_result"
    }
   ],
   "source": [
    "'''\n",
    "   → Spam emails generally tend to be longer (in word count) than non-spam emails.\n",
    "   → However, non-spam emails dominate shorter lengths and appear more frequently in total.\n",
    "'''"
   ]
  },
  {
   "cell_type": "markdown",
   "id": "455ddb36-75d1-4626-a5d2-3e3836c1c4a7",
   "metadata": {},
   "source": [
    "### c)Heatmap"
   ]
  },
  {
   "cell_type": "code",
   "execution_count": 30,
   "id": "b57dfecc-d9f1-4693-9faa-da23b6403b10",
   "metadata": {},
   "outputs": [
    {
     "data": {
      "image/png": "[encoded data removed]",
      "text/plain": [
       "<Figure size 640x480 with 2 Axes>"
      ]
     },
     "metadata": {},
     "output_type": "display_data"
    }
   ],
   "source": [
    "numerical_data = spam_data[['type', 'total_characters', 'total_words', 'total_sentences']]\n",
    "sns.heatmap(numerical_data.corr(), annot=True,cmap='pink')\n",
    "plt.title('Correlation Heatmap of Numerical Features',color='brown')\n",
    "plt.savefig('Heatmap.png')\n",
    "plt.show()"
   ]
  },
  {
   "cell_type": "code",
   "execution_count": 31,
   "id": "be082743-f793-4eab-922b-126a81168268",
   "metadata": {},
   "outputs": [
    {
     "data": {
      "text/plain": [
       "'\\ntotal_characters and total_words show a very strong positive correlation (close to +1):\\n→ Emails with more words naturally have more characters.\\n\\ntotal_words and total_sentences are also strongly positively correlated:\\n→ Longer emails tend to have more sentences and words.\\n\\ntotal_characters and total_sentences have a strong positive correlation as well:\\n→ More characters generally indicate more sentences.\\n\\nvalues ( 1 = spam, 0 = non spam) shows:\\n\\nA slight positive correlation with total_characters, total_words, and total_sentences\\n→ Spam emails tend to be slightly longer (more words/characters/sentences) than non-spam (ham), but the correlation is weak.\\n'"
      ]
     },
     "execution_count": 31,
     "metadata": {},
     "output_type": "execute_result"
    }
   ],
   "source": [
    "'''\n",
    "total_characters and total_words show a very strong positive correlation (close to +1):\n",
    "→ Emails with more words naturally have more characters.\n",
    "\n",
    "total_words and total_sentences are also strongly positively correlated:\n",
    "→ Longer emails tend to have more sentences and words.\n",
    "\n",
    "total_characters and total_sentences have a strong positive correlation as well:\n",
    "→ More characters generally indicate more sentences.\n",
    "\n",
    "values ( 1 = spam, 0 = non spam) shows:\n",
    "\n",
    "A slight positive correlation with total_characters, total_words, and total_sentences\n",
    "→ Spam emails tend to be slightly longer (more words/characters/sentences) than non-spam (ham), but the correlation is weak.\n",
    "'''"
   ]
  },
  {
   "cell_type": "code",
   "execution_count": 32,
   "id": "5d044e55",
   "metadata": {},
   "outputs": [],
   "source": [
    "# Example of adding new features\n",
    "import re\n",
    "\n",
    "def count_special_chars(text):\n",
    "    return len(re.findall(r'[!$%^&*()]', text))\n",
    "\n",
    "def has_url(text):\n",
    "    return len(re.findall(r'http[s]?://(?:[a-zA-Z]|[0-9]|[$-_@.&+]|[!*\\(\\),]|(?:%[0-9a-fA-F][0-9a-fA-F]))+', text)) > 0\n",
    "\n",
    "def capital_ratio(text):\n",
    "    if len(text) == 0:\n",
    "        return 0\n",
    "    return sum(1 for c in text if c.isupper()) / len(text)\n",
    "\n",
    "spam_data['special_chars'] = spam_data['messages'].apply(count_special_chars)\n",
    "spam_data['has_url'] = spam_data['messages'].apply(has_url).astype(int)\n",
    "spam_data['capital_ratio'] = spam_data['messages'].apply(capital_ratio)"
   ]
  },
  {
   "cell_type": "markdown",
   "id": "13b14b6b-b9f3-4552-bbc3-c2732cbe5c34",
   "metadata": {},
   "source": [
    "# 4)Data Preprocessing\n",
    " - Lower case\n",
    " - Tokenization\n",
    " - Removing special characters\n",
    " - Removing stop words and punctuation\n",
    " - Stemming"
   ]
  },
  {
   "cell_type": "code",
   "execution_count": 71,
   "id": "30f009e6-bff4-4890-a653-7cbee1392035",
   "metadata": {},
   "outputs": [],
   "source": [
    "# Update your preprocessing to preserve spam indicators\n",
    "import re\n",
    "import string\n",
    "from nltk.corpus import stopwords\n",
    "from nltk.stem import PorterStemmer\n",
    "\n",
    "ps = PorterStemmer()\n",
    "\n",
    "def transform_messages(text):\n",
    "    # Convert to lowercase\n",
    "    text = text.lower()\n",
    "    \n",
    "    # Remove punctuation (but keep some spam indicators like $, !, etc.)\n",
    "    # Customize this based on what you find important for spam detection\n",
    "    text = re.sub(r'[^\\w\\s\\$\\%\\!\\*]', '', text)\n",
    "    \n",
    "    # Tokenization\n",
    "    text = text.split()\n",
    "    \n",
    "    # Remove stopwords (but keep potential spam indicators)\n",
    "    custom_stopwords = set(stopwords.words('english')) - {'free', 'win', 'prize', 'urgent', 'click', 'offer'}\n",
    "    text = [word for word in text if word not in custom_stopwords]\n",
    "    \n",
    "    # Stemming\n",
    "    text = [ps.stem(word) for word in text]\n",
    "    \n",
    "    return \" \".join(text)\n",
    "\n",
    "# Apply this transformation to your messages\n",
    "spam_data['transformed_messages'] = spam_data['messages'].apply(transform_messages)"
   ]
  },
  {
   "cell_type": "code",
   "execution_count": 72,
   "id": "82a6f51a-a742-440b-b676-2d840df3f585",
   "metadata": {},
   "outputs": [
    {
     "data": {
      "text/html": [
       "<div>\n",
       "<style scoped>\n",
       "    .dataframe tbody tr th:only-of-type {\n",
       "        vertical-align: middle;\n",
       "    }\n",
       "\n",
       "    .dataframe tbody tr th {\n",
       "        vertical-align: top;\n",
       "    }\n",
       "\n",
       "    .dataframe thead th {\n",
       "        text-align: right;\n",
       "    }\n",
       "</style>\n",
       "<table border=\"1\" class=\"dataframe\">\n",
       "  <thead>\n",
       "    <tr style=\"text-align: right;\">\n",
       "      <th></th>\n",
       "      <th>type</th>\n",
       "      <th>messages</th>\n",
       "      <th>total_characters</th>\n",
       "      <th>total_words</th>\n",
       "      <th>total_sentences</th>\n",
       "      <th>special_chars</th>\n",
       "      <th>has_url</th>\n",
       "      <th>capital_ratio</th>\n",
       "      <th>transformed_messages</th>\n",
       "    </tr>\n",
       "  </thead>\n",
       "  <tbody>\n",
       "    <tr>\n",
       "      <th>0</th>\n",
       "      <td>0</td>\n",
       "      <td>Go until jurong point, crazy.. Available only in bugis n great world la e buffet... Cine there got amore wat...</td>\n",
       "      <td>111</td>\n",
       "      <td>24</td>\n",
       "      <td>2</td>\n",
       "      <td>0</td>\n",
       "      <td>0</td>\n",
       "      <td>0.027027</td>\n",
       "      <td>go jurong point crazy available bugis n great world la e buffet cine got amore wat</td>\n",
       "    </tr>\n",
       "    <tr>\n",
       "      <th>1</th>\n",
       "      <td>0</td>\n",
       "      <td>Ok lar... Joking wif u oni...</td>\n",
       "      <td>29</td>\n",
       "      <td>8</td>\n",
       "      <td>2</td>\n",
       "      <td>0</td>\n",
       "      <td>0</td>\n",
       "      <td>0.068966</td>\n",
       "      <td>ok lar joking wif u oni</td>\n",
       "    </tr>\n",
       "    <tr>\n",
       "      <th>2</th>\n",
       "      <td>1</td>\n",
       "      <td>Free entry in 2 a wkly comp to win FA Cup final tkts 21st May 2005. Text FA to 87121 to receive entry question(std txt rate)T&amp;C's apply 08452810075over18's</td>\n",
       "      <td>155</td>\n",
       "      <td>37</td>\n",
       "      <td>2</td>\n",
       "      <td>3</td>\n",
       "      <td>0</td>\n",
       "      <td>0.064516</td>\n",
       "      <td>free entry 2 wkly comp win fa cup final tkts 21st may 2005 text fa 87121 receive entry questionstd txt ratetcs apply 08452810075over18s</td>\n",
       "    </tr>\n",
       "    <tr>\n",
       "      <th>3</th>\n",
       "      <td>0</td>\n",
       "      <td>U dun say so early hor... U c already then say...</td>\n",
       "      <td>49</td>\n",
       "      <td>13</td>\n",
       "      <td>1</td>\n",
       "      <td>0</td>\n",
       "      <td>0</td>\n",
       "      <td>0.040816</td>\n",
       "      <td>u dun say early hor u c already say</td>\n",
       "    </tr>\n",
       "    <tr>\n",
       "      <th>4</th>\n",
       "      <td>0</td>\n",
       "      <td>Nah I don't think he goes to usf, he lives around here though</td>\n",
       "      <td>61</td>\n",
       "      <td>15</td>\n",
       "      <td>1</td>\n",
       "      <td>0</td>\n",
       "      <td>0</td>\n",
       "      <td>0.032787</td>\n",
       "      <td>nah dont think go usf life around though</td>\n",
       "    </tr>\n",
       "  </tbody>\n",
       "</table>\n",
       "</div>"
      ],
      "text/plain": [
       "   type  \\\n",
       "0     0   \n",
       "1     0   \n",
       "2     1   \n",
       "3     0   \n",
       "4     0   \n",
       "\n",
       "                                                                                                                                                      messages  \\\n",
       "0                                              Go until jurong point, crazy.. Available only in bugis n great world la e buffet... Cine there got amore wat...   \n",
       "1                                                                                                                                Ok lar... Joking wif u oni...   \n",
       "2  Free entry in 2 a wkly comp to win FA Cup final tkts 21st May 2005. Text FA to 87121 to receive entry question(std txt rate)T&C's apply 08452810075over18's   \n",
       "3                                                                                                            U dun say so early hor... U c already then say...   \n",
       "4                                                                                                Nah I don't think he goes to usf, he lives around here though   \n",
       "\n",
       "   total_characters  total_words  total_sentences  special_chars  has_url  \\\n",
       "0               111           24                2              0        0   \n",
       "1                29            8                2              0        0   \n",
       "2               155           37                2              3        0   \n",
       "3                49           13                1              0        0   \n",
       "4                61           15                1              0        0   \n",
       "\n",
       "   capital_ratio  \\\n",
       "0       0.027027   \n",
       "1       0.068966   \n",
       "2       0.064516   \n",
       "3       0.040816   \n",
       "4       0.032787   \n",
       "\n",
       "                                                                                                                      transformed_messages  \n",
       "0                                                       go jurong point crazy available bugis n great world la e buffet cine got amore wat  \n",
       "1                                                                                                                  ok lar joking wif u oni  \n",
       "2  free entry 2 wkly comp win fa cup final tkts 21st may 2005 text fa 87121 receive entry questionstd txt ratetcs apply 08452810075over18s  \n",
       "3                                                                                                      u dun say early hor u c already say  \n",
       "4                                                                                                 nah dont think go usf life around though  "
      ]
     },
     "execution_count": 72,
     "metadata": {},
     "output_type": "execute_result"
    }
   ],
   "source": [
    "spam_data['transformed_messages'] = spam_data['messages'].apply(transformed_messages)\n",
    "spam_data.head()"
   ]
  },
  {
   "cell_type": "markdown",
   "id": "3bb8f5c5-40a1-4a31-aaa1-9c26a5712f54",
   "metadata": {},
   "source": [
    "### d)Barplot"
   ]
  },
  {
   "cell_type": "code",
   "execution_count": 73,
   "id": "f8781582-9f45-4a1a-b887-66ee7de05e56",
   "metadata": {},
   "outputs": [
    {
     "data": {
      "image/png": "[encoded data removed]",
      "text/plain": [
       "<Figure size 1000x500 with 1 Axes>"
      ]
     },
     "metadata": {},
     "output_type": "display_data"
    }
   ],
   "source": [
    "NotSpam_corpus = []\n",
    "for msg in spam_data[spam_data['type'] == 0]['transformed_messages'].tolist():\n",
    "    for word in msg.split():\n",
    "        NotSpam_corpus.append(word)\n",
    "\n",
    "top_NotSpam_words = pd.DataFrame(Counter(NotSpam_corpus).most_common(30), \n",
    "                            columns=['Word', 'Frequency'])\n",
    "\n",
    "plt.figure(figsize=(10, 5))\n",
    "ax = sns.barplot(data=top_NotSpam_words, x='Word', y='Frequency',\n",
    "                color='pink',               \n",
    "                edgecolor='lightblue',)           \n",
    "\n",
    "plt.title('Top 30 Most Frequent Words in Not Spam Messages', \n",
    "         color='brown')\n",
    "plt.xlabel('Words', color='brown')\n",
    "plt.ylabel('Frequency Count', color='brown')\n",
    "plt.xticks(rotation=60)  \n",
    "\n",
    "\n",
    "plt.tight_layout()\n",
    "plt.savefig('barplotNotSpamCorpus.png')\n",
    "plt.show()"
   ]
  },
  {
   "cell_type": "code",
   "execution_count": 74,
   "id": "18fcf3a0-8a3c-4219-a999-6f6626c93903",
   "metadata": {},
   "outputs": [
    {
     "data": {
      "text/plain": [
       "\"\\n  The above visualization shows the 30 most frequently occurring words in not spam messages.\\n  Words like 'u', 'go', 'get', 'call', 'come' dominate not spam messages\\n\""
      ]
     },
     "execution_count": 74,
     "metadata": {},
     "output_type": "execute_result"
    }
   ],
   "source": [
    "'''\n",
    "  The above visualization shows the 30 most frequently occurring words in not spam messages.\n",
    "  Words like 'u', 'go', 'get', 'call', 'come' dominate not spam messages\n",
    "'''"
   ]
  },
  {
   "cell_type": "code",
   "execution_count": 75,
   "id": "230084c5",
   "metadata": {},
   "outputs": [
    {
     "data": {
      "image/png": "[encoded data removed]",
      "text/plain": [
       "<Figure size 1000x500 with 1 Axes>"
      ]
     },
     "metadata": {},
     "output_type": "display_data"
    }
   ],
   "source": [
    "Spam_corpus = []\n",
    "for msg in spam_data[spam_data['type'] == 1]['transformed_messages'].tolist():\n",
    "    for word in msg.split():\n",
    "        Spam_corpus.append(word)\n",
    "\n",
    "top_spam_words = pd.DataFrame(Counter(Spam_corpus).most_common(30), \n",
    "                            columns=['Word', 'Frequency'])\n",
    "\n",
    "plt.figure(figsize=(10, 5))\n",
    "ax = sns.barplot(data=top_spam_words, x='Word', y='Frequency',\n",
    "                color='pink',               \n",
    "                edgecolor='lightblue',)           \n",
    "\n",
    "plt.title('Top 30 Most Frequent Words in Not Spam Messages', \n",
    "         color='brown')\n",
    "plt.xlabel('Words', color='brown')\n",
    "plt.ylabel('Frequency Count', color='brown')\n",
    "plt.xticks(rotation=60)  \n",
    "\n",
    "\n",
    "plt.tight_layout()\n",
    "plt.savefig('barplotNotSpamCorpus.png')\n",
    "plt.show()"
   ]
  },
  {
   "cell_type": "code",
   "execution_count": 76,
   "id": "2547b605",
   "metadata": {},
   "outputs": [
    {
     "data": {
      "text/plain": [
       "\"\\n  The above visualization shows the 30 most frequently occurring words in not spam messages.\\n  Words like 'call', 'free', 'prize', 'mobile', 'urgent' dominate not spam messages\\n\""
      ]
     },
     "execution_count": 76,
     "metadata": {},
     "output_type": "execute_result"
    }
   ],
   "source": [
    "'''\n",
    "  The above visualization shows the 30 most frequently occurring words in not spam messages.\n",
    "  Words like 'call', 'free', 'prize', 'mobile', 'urgent' dominate not spam messages\n",
    "'''"
   ]
  },
  {
   "cell_type": "markdown",
   "id": "ea018e82-b951-42d0-bd43-a1259816229a",
   "metadata": {},
   "source": [
    "# 5)Model Building"
   ]
  },
  {
   "cell_type": "markdown",
   "id": "dd0f0ace-0be2-4b18-a089-15168ad5019a",
   "metadata": {},
   "source": [
    "### a)Feature Engineering"
   ]
  },
  {
   "cell_type": "code",
   "execution_count": 108,
   "id": "f515ce37-0d80-4bdd-94ca-1028dda44171",
   "metadata": {},
   "outputs": [],
   "source": [
    "from sklearn.feature_extraction.text import TfidfVectorizer, CountVectorizer\n",
    "\n",
    "# Create a custom vocabulary focusing on spam indicators\n",
    "spam_keywords = ['free', 'win', 'prize', 'urgent', 'click', 'offer', 'congratulations', \n",
    "                'limited', 'cash', 'money', 'guaranteed', 'risk', 'now', 'only', \n",
    "                'discount', 'exclusive', 'save', 'deal', 'credit', 'loan', 'apply',\n",
    "                'million', 'dollar', 'income', 'extra', 'cheap', 'bonus', 'winner',\n",
    "                'selected', 'trial', 'access', 'card', 'pay', 'price', 'cost', 'expire',\n",
    "                'special', 'promotion', 'order', 'buy', 'sell', 'profit', 'rich', '$$$',\n",
    "                '!!!', 'call now', 'act now', 'limited time', 'once in lifetime']\n",
    "\n",
    "# Combine TF-IDF with spam keyword features\n",
    "tfidf = TfidfVectorizer(max_features=1500, ngram_range=(1,2), \n",
    "                       vocabulary=None, stop_words='english')\n",
    "count_vec = CountVectorizer(max_features=1500,\n",
    "                       vocabulary=spam_keywords, binary=True)\n",
    "\n",
    "# Fit and transform\n",
    "X_tfidf = tfidf.fit_transform(spam_data['transformed_messages'])\n",
    "X_keywords = count_vec.fit_transform(spam_data['transformed_messages'])\n",
    "\n",
    "# Combine features\n",
    "import scipy.sparse as sp\n",
    "X = sp.hstack([X_tfidf, X_keywords])"
   ]
  },
  {
   "cell_type": "code",
   "execution_count": 109,
   "id": "7a06fedd-2e73-4693-9501-4af16440982a",
   "metadata": {},
   "outputs": [
    {
     "data": {
      "text/plain": [
       "(5169, 1549)"
      ]
     },
     "execution_count": 109,
     "metadata": {},
     "output_type": "execute_result"
    }
   ],
   "source": [
    "X.shape"
   ]
  },
  {
   "cell_type": "markdown",
   "id": "030a7c63-dc1c-4d77-a049-070f1cd0d071",
   "metadata": {},
   "source": [
    "### b)Train-Test Split"
   ]
  },
  {
   "cell_type": "code",
   "execution_count": 110,
   "id": "c01c36ae-8a37-45a7-90ec-c65d024d464e",
   "metadata": {},
   "outputs": [],
   "source": [
    "from sklearn.model_selection import train_test_split"
   ]
  },
  {
   "cell_type": "code",
   "execution_count": 111,
   "id": "4ea77361-3d44-442e-aff3-681f7f5db1f7",
   "metadata": {},
   "outputs": [],
   "source": [
    "Y = spam_data['type'].values\n",
    "X_train,X_test,y_train,y_test = train_test_split(X,Y,test_size=0.2,random_state=2)"
   ]
  },
  {
   "cell_type": "markdown",
   "id": "d8e78fff-047d-44f1-ba6b-e36b8101e509",
   "metadata": {},
   "source": [
    "### c)Model Training & Evaluation"
   ]
  },
  {
   "cell_type": "code",
   "execution_count": 112,
   "id": "b80439aa-1a64-4460-b8e2-b06142ededbf",
   "metadata": {},
   "outputs": [],
   "source": [
    "from sklearn.linear_model import LogisticRegression\n",
    "from sklearn.svm import SVC\n",
    "from sklearn.naive_bayes import MultinomialNB\n",
    "from sklearn.ensemble import RandomForestClassifier\n",
    "from sklearn.ensemble import GradientBoostingClassifier"
   ]
  },
  {
   "cell_type": "code",
   "execution_count": 113,
   "id": "51b23415-7425-42b8-ac62-edd198d42de6",
   "metadata": {},
   "outputs": [],
   "source": [
    "models = {\n",
    "    \"NB\": MultinomialNB(),\n",
    "    \"LogisticReg\": LogisticRegression(solver='liblinear', penalty='l1'),\n",
    "    \"RanForest\": RandomForestClassifier(n_estimators=50, random_state=2),\n",
    "    \"SVM\": SVC(kernel='sigmoid', gamma=1.0, probability=True),\n",
    "    \"GBoost\": GradientBoostingClassifier(n_estimators=50, random_state=2)\n",
    "}\n"
   ]
  },
  {
   "cell_type": "code",
   "execution_count": 114,
   "id": "6e1c28e8-c5e1-4758-a56c-1cec4cd53f12",
   "metadata": {},
   "outputs": [
    {
     "name": "stdout",
     "output_type": "stream",
     "text": [
      "NB:\n",
      "  Mean F1-Score (CV): 0.8775\n",
      "  Std F1-Score (CV): 0.0263\n",
      "\n",
      "LogisticReg:\n",
      "  Mean F1-Score (CV): 0.7891\n",
      "  Std F1-Score (CV): 0.0259\n",
      "\n",
      "RanForest:\n",
      "  Mean F1-Score (CV): 0.8676\n",
      "  Std F1-Score (CV): 0.0337\n",
      "\n",
      "SVM:\n",
      "  Mean F1-Score (CV): 0.8531\n",
      "  Std F1-Score (CV): 0.0263\n",
      "\n",
      "GBoost:\n",
      "  Mean F1-Score (CV): 0.7177\n",
      "  Std F1-Score (CV): 0.0410\n",
      "\n"
     ]
    }
   ],
   "source": [
    "from sklearn.model_selection import cross_val_score\n",
    "model_scores = {}\n",
    "\n",
    "for name, model in models.items():\n",
    "    model.fit(X_train, y_train)\n",
    "    \n",
    "    cv_score = cross_val_score(model, X_train, y_train, cv=5, scoring='f1')\n",
    "    \n",
    "    model_scores[name] = {\n",
    "        'Model': model,\n",
    "        'CV Mean F1-Score': cv_score.mean(),\n",
    "        'CV Std F1-Score': cv_score.std()\n",
    "    }\n",
    "\n",
    "for name, scores in model_scores.items():\n",
    "    print(f\"{name}:\")\n",
    "    print(f\"  Mean F1-Score (CV): {scores['CV Mean F1-Score']:.4f}\")\n",
    "    print(f\"  Std F1-Score (CV): {scores['CV Std F1-Score']:.4f}\\n\")"
   ]
  },
  {
   "cell_type": "code",
   "execution_count": 115,
   "id": "6146291f-1904-478b-964a-7ed92eab0a86",
   "metadata": {},
   "outputs": [
    {
     "data": {
      "text/plain": [
       "'\\n-Naive Bayes is fast and efficient\\nBest for real-time or large-scale deployments due to its speed.\\n-Random Forest is the best trade-off\\nStrong performance but more complex than NB.\\n-SVM is the top performer\\nBut slowest to train (especially on larger datasets).\\n-XGBoost & Logistic Regression underperformed\\nWeaker F1-scores compared to NB, RF, and SVM.\\n'"
      ]
     },
     "execution_count": 115,
     "metadata": {},
     "output_type": "execute_result"
    }
   ],
   "source": [
    "'''\n",
    "-Naive Bayes is fast and efficient\n",
    "Best for real-time or large-scale deployments due to its speed.\n",
    "-Random Forest is the best trade-off\n",
    "Strong performance but more complex than NB.\n",
    "-SVM is the top performer\n",
    "But slowest to train (especially on larger datasets).\n",
    "-XGBoost & Logistic Regression underperformed\n",
    "Weaker F1-scores compared to NB, RF, and SVM.\n",
    "'''"
   ]
  },
  {
   "cell_type": "code",
   "execution_count": 116,
   "id": "08b2c5a5-c738-4752-a46e-b7718d215641",
   "metadata": {},
   "outputs": [
    {
     "data": {
      "text/html": [
       "<style>.output { max-height: none !important; overflow-y: visible !important; }</style>"
      ],
      "text/plain": [
       "<IPython.core.display.HTML object>"
      ]
     },
     "metadata": {},
     "output_type": "display_data"
    },
    {
     "name": "stdout",
     "output_type": "stream",
     "text": [
      "\n",
      "\u001b[1mMODEL EVALUATION SUMMARY\u001b[0m\n",
      "==================================================\n",
      "\n",
      "\u001b[1mEvaluation for MultinomialNB\u001b[0m\n",
      "--------------------------------------------------\n",
      "Accuracy:  0.9710\n",
      "Precision: 0.9426\n",
      "Recall:    0.8333\n",
      "F1-Score:  0.8846\n"
     ]
    },
    {
     "data": {
      "image/png": "[encoded data removed]",
      "text/plain": [
       "<Figure size 500x350 with 1 Axes>"
      ]
     },
     "metadata": {},
     "output_type": "display_data"
    },
    {
     "name": "stdout",
     "output_type": "stream",
     "text": [
      "\n",
      "\u001b[1mEvaluation for LogisticRegression\u001b[0m\n",
      "--------------------------------------------------\n",
      "Accuracy:  0.9497\n",
      "Precision: 0.9135\n",
      "Recall:    0.6884\n",
      "F1-Score:  0.7851\n"
     ]
    },
    {
     "data": {
      "image/png": "[encoded data removed]",
      "text/plain": [
       "<Figure size 500x350 with 1 Axes>"
      ]
     },
     "metadata": {},
     "output_type": "display_data"
    },
    {
     "name": "stdout",
     "output_type": "stream",
     "text": [
      "\n",
      "\u001b[1mEvaluation for RandomForestClassifier\u001b[0m\n",
      "--------------------------------------------------\n",
      "Accuracy:  0.9758\n",
      "Precision: 0.9829\n",
      "Recall:    0.8333\n",
      "F1-Score:  0.9020\n"
     ]
    },
    {
     "data": {
      "image/png": "[encoded data removed]",
      "text/plain": [
       "<Figure size 500x350 with 1 Axes>"
      ]
     },
     "metadata": {},
     "output_type": "display_data"
    },
    {
     "name": "stdout",
     "output_type": "stream",
     "text": [
      "\n",
      "\u001b[1mEvaluation for SVC\u001b[0m\n",
      "--------------------------------------------------\n",
      "Accuracy:  0.9565\n",
      "Precision: 0.8720\n",
      "Recall:    0.7899\n",
      "F1-Score:  0.8289\n"
     ]
    },
    {
     "data": {
      "image/png": "[encoded data removed]",
      "text/plain": [
       "<Figure size 500x350 with 1 Axes>"
      ]
     },
     "metadata": {},
     "output_type": "display_data"
    },
    {
     "name": "stdout",
     "output_type": "stream",
     "text": [
      "\n",
      "\u001b[1mEvaluation for GradientBoostingClassifier\u001b[0m\n",
      "--------------------------------------------------\n",
      "Accuracy:  0.9429\n",
      "Precision: 0.9540\n",
      "Recall:    0.6014\n",
      "F1-Score:  0.7378\n"
     ]
    },
    {
     "data": {
      "image/png": "[encoded data removed]",
      "text/plain": [
       "<Figure size 500x350 with 1 Axes>"
      ]
     },
     "metadata": {},
     "output_type": "display_data"
    }
   ],
   "source": [
    "from sklearn.metrics import accuracy_score, precision_score, recall_score, f1_score, confusion_matrix, classification_report\n",
    "import matplotlib.pyplot as plt\n",
    "import seaborn as sns\n",
    "from IPython.display import display, HTML\n",
    "\n",
    "\n",
    "display(HTML(\"<style>.output { max-height: none !important; overflow-y: visible !important; }</style>\"))\n",
    "\n",
    "def evaluate_model(model, X_test, y_test):\n",
    "    y_pred = model.predict(X_test)\n",
    "    \n",
    "    metrics = {\n",
    "        'Model': model.__class__.__name__,\n",
    "        'Accuracy': f\"{accuracy_score(y_test, y_pred):.4f}\",\n",
    "        'Precision': f\"{precision_score(y_test, y_pred):.4f}\",\n",
    "        'Recall': f\"{recall_score(y_test, y_pred):.4f}\",\n",
    "        'F1-Score': f\"{f1_score(y_test, y_pred):.4f}\"\n",
    "    }\n",
    "    \n",
    "    print(f\"\\n\\033[1mEvaluation for {metrics['Model']}\\033[0m\")\n",
    "    print(\"-\"*50)\n",
    "    print(f\"Accuracy:  {metrics['Accuracy']}\")\n",
    "    print(f\"Precision: {metrics['Precision']}\")\n",
    "    print(f\"Recall:    {metrics['Recall']}\")\n",
    "    print(f\"F1-Score:  {metrics['F1-Score']}\")\n",
    "    \n",
    "    plt.figure(figsize=(5, 3.5)) \n",
    "    cm = confusion_matrix(y_test, y_pred)\n",
    "    sns.heatmap(cm, annot=True, fmt='d', cmap='Blues', \n",
    "                xticklabels=['Not Spam', 'Spam'], \n",
    "                yticklabels=['Not Spam', 'Spam'],\n",
    "                cbar=False)\n",
    "    plt.title(f\"Confusion Matrix\", pad=10)\n",
    "    plt.xlabel(\"Predicted\")\n",
    "    plt.ylabel(\"Actual\")\n",
    "    plt.tight_layout()\n",
    "    plt.show()\n",
    "    \n",
    "    return metrics\n",
    "\n",
    "print(\"\\n\\033[1mMODEL EVALUATION SUMMARY\\033[0m\")\n",
    "print(\"=\"*50)\n",
    "all_metrics = []\n",
    "for name, model_data in model_scores.items():\n",
    "    all_metrics.append(evaluate_model(model_data['Model'], X_test, y_test))"
   ]
  },
  {
   "cell_type": "code",
   "execution_count": 117,
   "id": "81ea9096-547e-4814-8584-91dd71d672fb",
   "metadata": {},
   "outputs": [
    {
     "data": {
      "text/plain": [
       "'\\nBest Practical Choice → Naive Bayes\\n-Perfect Precision (1.000): Zero false positives—critical for spam filtering.\\n-Solid F1-Score (0.8780): Balanced performance despite lower recall.\\n-Lightning Fast: Trains/predicts instantly, ideal for production.\\nTrade-off: Lower recall (0.7826) than SVM/RF, but unmatched precision and efficiency.\\n'"
      ]
     },
     "execution_count": 117,
     "metadata": {},
     "output_type": "execute_result"
    }
   ],
   "source": [
    "'''\n",
    "Best Practical Choice → Naive Bayes\n",
    "-Perfect Precision (1.000): Zero false positives—critical for spam filtering.\n",
    "-Solid F1-Score (0.8780): Balanced performance despite lower recall.\n",
    "-Lightning Fast: Trains/predicts instantly, ideal for production.\n",
    "Trade-off: Lower recall (0.7826) than SVM/RF, but unmatched precision and efficiency.\n",
    "'''"
   ]
  },
  {
   "cell_type": "markdown",
   "id": "70d4a871-0eac-42c0-b673-b165516b3c16",
   "metadata": {},
   "source": [
    "### d) Best Model Hypertuning"
   ]
  },
  {
   "cell_type": "code",
   "execution_count": 118,
   "id": "e4b3a3a0-1ec4-4510-a545-50bc21e353d2",
   "metadata": {},
   "outputs": [
    {
     "name": "stdout",
     "output_type": "stream",
     "text": [
      "Best MultinomialNB Parameters: {'alpha': 0.1, 'fit_prior': True}\n"
     ]
    }
   ],
   "source": [
    "from sklearn.model_selection import GridSearchCV\n",
    "\n",
    "param_grid = {\n",
    "    'alpha': [0.1, 0.5, 1.0, 2.0],  \n",
    "    'fit_prior': [True, False]       \n",
    "}\n",
    "\n",
    "nb_grid = GridSearchCV(\n",
    "    MultinomialNB(),\n",
    "    param_grid,\n",
    "    cv=3,            \n",
    "    scoring='f1',    \n",
    "    n_jobs=-1         \n",
    ")\n",
    "\n",
    "nb_grid.fit(X_train, y_train)\n",
    "\n",
    "print(\"Best MultinomialNB Parameters:\", nb_grid.best_params_)"
   ]
  },
  {
   "cell_type": "markdown",
   "id": "753139ef-2c42-4ff9-9fd3-5c833b03082a",
   "metadata": {},
   "source": [
    "### Final Model Evaluation"
   ]
  },
  {
   "cell_type": "code",
   "execution_count": 119,
   "id": "4c6de2ae-25fd-4c33-9fb6-b3b5e0bf748d",
   "metadata": {},
   "outputs": [
    {
     "name": "stdout",
     "output_type": "stream",
     "text": [
      "\n",
      "\u001b[1mTest Performance (Optimized MultinomialNB)\u001b[0m\n",
      "--------------------------------------------------\n",
      "Accuracy:  0.9710\n",
      "Precision: 0.9154\n",
      "Recall:    0.8623\n",
      "F1-Score:  0.8881\n",
      "ROC-AUC:   0.9874\n"
     ]
    }
   ],
   "source": [
    "from sklearn.metrics import accuracy_score, precision_score, recall_score, f1_score,roc_curve, roc_auc_score\n",
    "\n",
    "\n",
    "best_nb = nb_grid.best_estimator_ \n",
    "\n",
    "y_pred = best_nb.predict(X_test)\n",
    "y_pred_proba = best_nb.predict_proba(X_test)[:, 1] \n",
    "\n",
    "print(\"\\n\\033[1mTest Performance (Optimized MultinomialNB)\\033[0m\")\n",
    "print(\"-\" * 50)\n",
    "print(f\"Accuracy:  {accuracy_score(y_test, y_pred):.4f}\")\n",
    "print(f\"Precision: {precision_score(y_test, y_pred):.4f}\")\n",
    "print(f\"Recall:    {recall_score(y_test, y_pred):.4f}\")\n",
    "print(f\"F1-Score:  {f1_score(y_test, y_pred):.4f}\")\n",
    "print(f\"ROC-AUC:   {roc_auc_score(y_test, y_pred_proba):.4f}\")"
   ]
  },
  {
   "cell_type": "code",
   "execution_count": 120,
   "id": "09b818b2-1b04-4cac-972c-a5ebe4291069",
   "metadata": {},
   "outputs": [
    {
     "data": {
      "image/png": "[encoded data removed]",
      "text/plain": [
       "<Figure size 600x400 with 2 Axes>"
      ]
     },
     "metadata": {},
     "output_type": "display_data"
    }
   ],
   "source": [
    "from sklearn.metrics import confusion_matrix\n",
    "plt.figure(figsize=(6, 4))\n",
    "sns.heatmap(confusion_matrix(y_test, y_pred), \n",
    "            annot=True, \n",
    "            fmt='d', \n",
    "            cmap='Blues',\n",
    "            xticklabels=['Not Spam', 'Spam'],\n",
    "            yticklabels=['Not Spam', 'Spam'])\n",
    "plt.title(\"Multinomial Naive Bayes Confusion Matrix\")\n",
    "plt.xlabel(\"Predicted Label\")\n",
    "plt.ylabel(\"True Label\")\n",
    "plt.tight_layout()\n",
    "plt.savefig('NBConfusionMatrix.png')  \n",
    "plt.show()"
   ]
  },
  {
   "cell_type": "code",
   "execution_count": 121,
   "id": "5bec2950-b59f-4438-9d47-bbd79ec87203",
   "metadata": {},
   "outputs": [
    {
     "data": {
      "text/plain": [
       "'\\nThe model is highly accurate at identifying non-spam emails.\\n'"
      ]
     },
     "execution_count": 121,
     "metadata": {},
     "output_type": "execute_result"
    }
   ],
   "source": [
    "'''\n",
    "The model is highly accurate at identifying non-spam emails.\n",
    "'''"
   ]
  },
  {
   "cell_type": "code",
   "execution_count": 122,
   "id": "e6fd37fc-ce65-4aa9-ba36-cc820ebb9915",
   "metadata": {},
   "outputs": [
    {
     "data": {
      "image/png": "[encoded data removed]",
      "text/plain": [
       "<Figure size 600x400 with 1 Axes>"
      ]
     },
     "metadata": {},
     "output_type": "display_data"
    }
   ],
   "source": [
    "fpr, tpr, _ = roc_curve(y_test, y_pred_proba)\n",
    "plt.figure(figsize=(6, 4))\n",
    "plt.plot(fpr, tpr, label=f'MNB (AUC = {roc_auc_score(y_test, y_pred_proba):.2f})')\n",
    "plt.plot([0, 1], [0, 1], 'k--')\n",
    "plt.xlabel('False Positive Rate')\n",
    "plt.ylabel('True Positive Rate')\n",
    "plt.title('ROC Curve - MultinomialNB')\n",
    "plt.savefig('RocCurveNB.png')\n",
    "plt.legend()\n",
    "plt.show()"
   ]
  },
  {
   "cell_type": "code",
   "execution_count": 123,
   "id": "a55302ef-d36b-44f9-9046-a5b2a915d4c3",
   "metadata": {},
   "outputs": [
    {
     "data": {
      "text/plain": [
       "'\\nThe ROC curve shows Multinomial Naive Bayes achieves strong spam detection (high True Positive Rate)\\nwhile maintaining low false alarms (low False Positive Rate), \\nwith an AUC score indicating good overall performance.\\n'"
      ]
     },
     "execution_count": 123,
     "metadata": {},
     "output_type": "execute_result"
    }
   ],
   "source": [
    "'''\n",
    "The ROC curve shows Multinomial Naive Bayes achieves strong spam detection (high True Positive Rate)\n",
    "while maintaining low false alarms (low False Positive Rate), \n",
    "with an AUC score indicating good overall performance.\n",
    "'''"
   ]
  },
  {
   "cell_type": "code",
   "execution_count": 126,
   "id": "d0646438-95e7-4b4f-9a15-a91c23d2e0cf",
   "metadata": {},
   "outputs": [],
   "source": [
    "import pickle\n",
    "\n",
    "# Assuming you have a trained model (e.g., model) and vectorizer (e.g., vectorizer)\n",
    "with open('spam_classifier.pkl', 'wb') as model_file:\n",
    "    pickle.dump(best_nb, model_file)\n",
    "\n",
    "# 2. Save the TF-IDF vectorizer\n",
    "with open('tfidf_vectorizer.pkl', 'wb') as tfidf_file:\n",
    "    pickle.dump(tfidf, tfidf_file)\n",
    "\n",
    "# 3. Save the CountVectorizer for spam keywords\n",
    "with open('count_vectorizer.pkl', 'wb') as count_file:\n",
    "    pickle.dump(count_vec, count_file)"
   ]
  },
  {
   "cell_type": "code",
   "execution_count": null,
   "id": "83e9f09d",
   "metadata": {},
   "outputs": [],
   "source": []
  },
  {
   "cell_type": "code",
   "execution_count": null,
   "id": "0fcf0a2f",
   "metadata": {},
   "outputs": [],
   "source": []
  }
 ],
 "metadata": {
  "kernelspec": {
   "display_name": "Python 3",
   "language": "python",
   "name": "python3"
  },
  "language_info": {
   "codemirror_mode": {
    "name": "ipython",
    "version": 3
   },
   "file_extension": ".py",
   "mimetype": "text/x-python",
   "name": "python",
   "nbconvert_exporter": "python",
   "pygments_lexer": "ipython3",
   "version": "3.13.1"
  }
 },
 "nbformat": 4,
 "nbformat_minor": 5
}
